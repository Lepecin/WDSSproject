{
 "cells": [
  {
   "cell_type": "raw",
   "id": "cheap-sperm",
   "metadata": {},
   "source": [
    "---\n",
    "title: \"THE PROJECT TITLE\"\n",
    "date: 2021-09-04\n",
    "updated: 2021-09-04\n",
    "authors_plus:\n",
    "- \"Author 1 name\"\n",
    "- \"Author 2 name\"\n",
    "contacts_plus:\n",
    "- \"https://www.linkedin.com/in/author1\"\n",
    "- \"https://www.linkedin.com/in/author2\"\n",
    "editor: \"Editor name\"\n",
    "editor_contact: \"https://www.linkedin.com/in/editor\"\n",
    "tags:\n",
    "- tag1\n",
    "- tag2\n",
    "- tag3\n",
    "categories:\n",
    "- []\n",
    "languages:\n",
    "- r\n",
    "description: \"Short and catchy description of the project\"\n",
    "cover: /banners/polish-countdown.jpg\n",
    "---\n"
   ]
  },
  {
   "cell_type": "markdown",
   "id": "standing-doctrine",
   "metadata": {},
   "source": [
    "## Introduction\n",
    "\n",
    "This is a sample blog post. It contains sample text and images to present how the blog post can be editted. "
   ]
  },
  {
   "cell_type": "markdown",
   "id": "b95fe6b6-c32b-4ae7-8bd9-a2ea26bdfd9a",
   "metadata": {},
   "source": [
    "## How it works ? \n",
    "\n",
    "The contents of the blog post are contained in a single jupyter notebook. It allows for easily combinging together regular text with code cells and including extra graphics. There are three types of cells which can be used inside a jupyter notebook:\n",
    "- `Code`\n",
    "- `Markdown`\n",
    "- `Raw`\n",
    "\n",
    "`Markdown` cells are used to write text editted with Markdown. `Code` cells are designated for including snippets of your code inside the blog. `Raw` cells are used for including raw / verbatim input. "
   ]
  },
  {
   "cell_type": "markdown",
   "id": "cc505e9c-fd7d-4339-a2dd-3101bf620883",
   "metadata": {},
   "source": [
    "{% note danger %}\n",
    "Do **not** edit the first cell of this notebook -  it is a `Raw` cell containg the instructions for correct rendering of the notebook. It will be later editted with the details of your blog post by someone from our Research Team.  \n",
    "{% endnote %}"
   ]
  },
  {
   "cell_type": "markdown",
   "id": "f74c9892-fb5f-4ffb-863b-c3a2a0f18b32",
   "metadata": {},
   "source": [
    "## What do I need to get started?\n",
    "\n",
    "To edit the notebook we recommend using either Jupyter Lab or Jupyter Notebook. If you need any quidance on how to set it up, please contact reach to our [Research Team](mailto:research@wdss.io)\n",
    "\n",
    "## Markdown - what and how ?\n",
    "\n",
    "Markdown is a lightweight markup language that you can use to add formatting elements to plaintext text documents. Using Markdown is different than using an application like Microsoft Word, you click buttons to format words and phrases, and the changes are visible immediately. Markdown isn’t like that. When you create a Markdown-formatted file, you add Markdown syntax to the text to indicate which words and phrases should look different.\n",
    "\n",
    "For example, to denote a heading, you add a number sign before it (e.g., `# Heading One`). Or to make a phrase bold, you add two asterisks `**` before and after it (e.g., **this text is bold**). \n",
    "\n",
    "This [guide](https://www.markdownguide.org/basic-syntax/) should geet you started with the basic syntax of Markdown.\n",
    "\n",
    "\n",
    "## How to add code to the notebook ?\n",
    "\n",
    "If you want a piece of code to be included included in your notebook, then you should add it in a seprate `Code` cell. This `Code` cell can be displayed or hidden in the final rendering of the notebook. \n",
    "\n",
    "Inside Jupyter Lab or Jupyter Notebook the inclusion / exclusion of a code cell in the final output is controlled with the Cell Tags. \n",
    "To hide a `Code` cell from the output mark it with a `remove_input` tag. \n",
    "To hide the output of a `Code` cell from the final blog mark it with a `remove_all_output` tag."
   ]
  },
  {
   "cell_type": "raw",
   "id": "bottom-rotation",
   "metadata": {},
   "source": [
    "![Tags](/images/template/tags.png)"
   ]
  },
  {
   "cell_type": "code",
   "execution_count": 1,
   "id": "fc152dee-4cf9-4751-8e53-0405f4b5a85f",
   "metadata": {
    "tags": [
     "remove_input",
     "remove_all_output"
    ]
   },
   "outputs": [],
   "source": [
    "# This code cell will not be displayed\n",
    "\n",
    "values <- c(1,2,3,4)"
   ]
  },
  {
   "cell_type": "code",
   "execution_count": 2,
   "id": "a8c0be7e-3b9d-4ca0-9c1f-e601b2d9cc78",
   "metadata": {
    "tags": []
   },
   "outputs": [
    {
     "name": "stdout",
     "output_type": "stream",
     "text": [
      "[1] 1 2 3 4\n",
      "[1] 2 4 6 8\n"
     ]
    }
   ],
   "source": [
    "# This code cell will be displayed in the final blog post together with its output\n",
    "\n",
    "print(values)\n",
    "values <- values * 2\n",
    "print(values)"
   ]
  },
  {
   "cell_type": "code",
   "execution_count": 3,
   "id": "8a87fc98-d50f-4e8d-b3c4-0d2bae6a072d",
   "metadata": {
    "tags": [
     "remove_all_output"
    ]
   },
   "outputs": [
    {
     "name": "stdout",
     "output_type": "stream",
     "text": [
      "[1] 2 4 6 8\n",
      "[1]  4  8 12 16\n"
     ]
    }
   ],
   "source": [
    "# This code cell will be displayed in the final blog post without its output\n",
    "\n",
    "print(values)\n",
    "values <- values * 2\n",
    "print(values)"
   ]
  },
  {
   "cell_type": "markdown",
   "id": "wired-garage",
   "metadata": {},
   "source": [
    "## Coloured boxes\n",
    "\n",
    "The blog post can also include three types of coloured quote boxes: `info`, `warning`, `success`, `danger`. See examples below."
   ]
  },
  {
   "cell_type": "raw",
   "id": "advisory-entrepreneur",
   "metadata": {},
   "source": [
    "{% note info %}\n",
    "This is an info note.\n",
    "{% endnote %}"
   ]
  },
  {
   "cell_type": "raw",
   "id": "ae0702a9-9a29-45ca-a2e5-ba855d3e19bd",
   "metadata": {},
   "source": [
    "{% note warning %}\n",
    "This is a warning note.\n",
    "{% endnote %}"
   ]
  },
  {
   "cell_type": "raw",
   "id": "356686d6-5802-4ab2-9619-fc24817bd280",
   "metadata": {},
   "source": [
    "{% note success %}\n",
    "This is a success note.\n",
    "{% endnote %}"
   ]
  },
  {
   "cell_type": "raw",
   "id": "f9003299-3736-4c5d-a0dc-d41c63372f51",
   "metadata": {},
   "source": [
    "{% note danger %}\n",
    "This is a danger note.\n",
    "{% endnote %}"
   ]
  },
  {
   "cell_type": "markdown",
   "id": "dc93845d-549a-4fac-bbc9-e6308c71f912",
   "metadata": {},
   "source": [
    "Note boxes must be included in a separate `Raw` cell of your notebook."
   ]
  },
  {
   "cell_type": "markdown",
   "id": "3821d7fe-61c7-4719-87b6-7c5916f0209c",
   "metadata": {},
   "source": [
    "### Images\n",
    "\n",
    "You can also add images to your blog post. If the file name of your image is `my-image.png` and the name of the folder with the your notebook is `my-research-title`, add a separate notebook cell with the following syntax:\n",
    "\n",
    "`![my-image](/images/my-research-title/my-image.png)`"
   ]
  },
  {
   "cell_type": "raw",
   "id": "9617a017-7f99-4894-bab0-82cac97c8ff4",
   "metadata": {},
   "source": [
    "{% note warning %}\n",
    "You will not be able to see the image inside your notebook. It will only become visible in the final rendering of the webiste.\n",
    "{% endnote %}"
   ]
  }
 ],
 "metadata": {
  "kernelspec": {
   "display_name": "R",
   "language": "R",
   "name": "ir"
  },
  "language_info": {
   "codemirror_mode": "r",
   "file_extension": ".r",
   "mimetype": "text/x-r-source",
   "name": "R",
   "pygments_lexer": "r",
   "version": "3.6.1"
  }
 },
 "nbformat": 4,
 "nbformat_minor": 5
}
